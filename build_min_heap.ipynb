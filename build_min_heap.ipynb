{
  "nbformat": 4,
  "nbformat_minor": 0,
  "metadata": {
    "colab": {
      "provenance": [],
      "authorship_tag": "ABX9TyN4Buv9yLGJUPl9pPzzdK8K",
      "include_colab_link": true
    },
    "kernelspec": {
      "name": "python3",
      "display_name": "Python 3"
    },
    "language_info": {
      "name": "python"
    }
  },
  "cells": [
    {
      "cell_type": "markdown",
      "metadata": {
        "id": "view-in-github",
        "colab_type": "text"
      },
      "source": [
        "<a href=\"https://colab.research.google.com/github/LIKHITHREDDY95/Hand-on-5/blob/main/build_min_heap.ipynb\" target=\"_parent\"><img src=\"https://colab.research.google.com/assets/colab-badge.svg\" alt=\"Open In Colab\"/></a>"
      ]
    },
    {
      "cell_type": "code",
      "execution_count": 5,
      "metadata": {
        "colab": {
          "base_uri": "https://localhost:8080/"
        },
        "id": "nuqFp6R1OEML",
        "outputId": "a70095d5-28c1-4e96-b8ec-ed04608c18a9"
      },
      "outputs": [
        {
          "output_type": "stream",
          "name": "stdout",
          "text": [
            "Heap after build_min_heap: [-98, -8, 0, 3, 6, 2.8279021, 8, 14, 4, 7, 13, 10, 12.2]\n",
            "Heap after inserting 2: [-98, -8, 0, 3, 6, 2.8279021, 2, 14, 4, 7, 13, 10, 12.2, 8]\n",
            "Heap after inserting negative float values as -9.45 [-98, -8, -9.45, 3, 6, 2.8279021, 0, 14, 4, 7, 13, 10, 12.2, 8, 2]\n",
            "Heap inserting float values as 56.7 [-98, -8, -9.45, 3, 6, 2.8279021, 0, 14, 4, 7, 13, 10, 12.2, 8, 2]\n",
            "Popped min element: -98\n",
            "Heap after pop: [-9.45, -8, 0, 3, 6, 2.8279021, 2, 14, 4, 7, 13, 10, 12.2, 8, 56.7]\n"
          ]
        }
      ],
      "source": [
        "class MinHeap:\n",
        "    def __init__(self):\n",
        "        self.heap = []\n",
        "\n",
        "    def parent(self, i):\n",
        "        return (i - 1) >> 1\n",
        "\n",
        "    def left(self, i):\n",
        "        return (i << 1) + 1\n",
        "\n",
        "    def right(self, i):\n",
        "        return (i << 1) + 2\n",
        "\n",
        "    def build_min_heap(self, arr):\n",
        "        self.heap = arr[:]\n",
        "        for i in range(len(self.heap) // 2 - 1, -1, -1):\n",
        "            self.heapify(i)\n",
        "\n",
        "    def heapify(self, i):\n",
        "        n = len(self.heap)\n",
        "        smallest = i\n",
        "        left = self.left(i)\n",
        "        right = self.right(i)\n",
        "\n",
        "        if left < n and self.heap[left] < self.heap[smallest]:\n",
        "            smallest = left\n",
        "        if right < n and self.heap[right] < self.heap[smallest]:\n",
        "            smallest = right\n",
        "\n",
        "        if smallest != i:\n",
        "            self.heap[i], self.heap[smallest] = self.heap[smallest], self.heap[i]\n",
        "            self.heapify(smallest)\n",
        "\n",
        "    def pop(self):\n",
        "        if not self.heap:\n",
        "            return None\n",
        "        root = self.heap[0]\n",
        "        last_element = self.heap.pop()\n",
        "        if self.heap:\n",
        "            self.heap[0] = last_element\n",
        "            self.heapify(0)\n",
        "        return root\n",
        "\n",
        "    def insert(self, key):\n",
        "        self.heap.append(key)\n",
        "        i = len(self.heap) - 1\n",
        "        while i > 0:\n",
        "            parent = self.parent(i)\n",
        "            if self.heap[i] < self.heap[parent]:\n",
        "                self.heap[i], self.heap[parent] = self.heap[parent], self.heap[i]\n",
        "                i = parent\n",
        "            else:\n",
        "                break\n",
        "\n",
        "    def get_min(self):\n",
        "        return self.heap[0] if self.heap else None\n",
        "\n",
        "    def __str__(self):\n",
        "        return str(self.heap)\n",
        "\n",
        "\n",
        "# Examples inserting positive and negative floats and also intergers and pop functionality \n",
        "heap = MinHeap()\n",
        "data = [8, 3, 10, -8, 6, -98, 0, 14, 4, 7, 13, 2.8279021, 12.2]\n",
        "heap.build_min_heap(data)\n",
        "print(\"Heap after build_min_heap:\", heap)\n",
        "\n",
        "heap.insert(2)\n",
        "print(\"Heap after inserting 2:\", heap)\n",
        "\n",
        "heap.insert(-9.45)\n",
        "print(\"Heap after inserting negative float values as -9.45\", heap)\n",
        "\n",
        "print(\"Heap inserting float values as 56.7\", heap)\n",
        "heap.insert(56.7)\n",
        "\n",
        "min_element = heap.pop()\n",
        "print(\"Popped min element:\", min_element)\n",
        "print(\"Heap after pop:\", heap)\n"
      ]
    }
  ]
}
